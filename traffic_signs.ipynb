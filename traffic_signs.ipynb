{
 "cells": [
  {
   "cell_type": "code",
   "execution_count": 2,
   "metadata": {},
   "outputs": [],
   "source": [
    "#import libraries\n",
    "import numpy as np\n",
    "import pandas as pd\n",
    "import matplotlib.pyplot as plt\n",
    "import tensorflow as tf\n",
    "from PIL import Image, ImageFont\n",
    "#from IPython.display import Image \n",
    "#import Pillow\n",
    "from tensorflow import keras\n",
    "import os\n",
    "from sklearn.model_selection import train_test_split\n",
    "from tensorflow.keras.utils import to_categorical\n",
    "#from keras.models import sequential\n",
    "#from tensorflow.keras import sequential\n",
    "from tensorflow.python.keras.models import Sequential\n",
    "from tensorflow.python.keras.layers import Conv2D, MaxPool2D, Dense,Flatten,Dropout"
   ]
  },
  {
   "cell_type": "code",
   "execution_count": 3,
   "metadata": {},
   "outputs": [],
   "source": [
    "data = []\n",
    "labels = []\n",
    "classes = 43\n",
    "cur_path = os.getcwd()\n",
    "\n",
    "for i in range(classes):\n",
    "    path = os.path.join(cur_path,'Train',str(i))\n",
    "    images = os.listdir(path)\n",
    "    for a in images:\n",
    "        try:\n",
    "            image = Image.open(path + '\\\\'+ a)\n",
    "            image = image.resize((30,30))\n",
    "            image = np.array(image)\n",
    "            data.append(image)\n",
    "            labels.append(i)\n",
    "        except:\n",
    "            print('Error loading image')\n",
    "        \n",
    "data = np.array(data)\n",
    "labels = np.array(labels)\n",
    "        \n",
    "    \n",
    "    "
   ]
  },
  {
   "cell_type": "code",
   "execution_count": 4,
   "metadata": {},
   "outputs": [
    {
     "name": "stdout",
     "output_type": "stream",
     "text": [
      "(39209, 30, 30, 3) (39209,)\n",
      "(31367, 30, 30, 3) (7842, 30, 30, 3) (31367,) (7842,)\n"
     ]
    }
   ],
   "source": [
    "#split train data into train and test\n",
    "print(data.shape,labels.shape)\n",
    "\n",
    "X_train,X_test,y_train,y_test = train_test_split(data,labels,test_size=0.2,random_state=42)\n",
    "print(X_train.shape,X_test.shape,y_train.shape,y_test.shape)\n",
    "\n",
    "#Converting the labels into one hot encoding\n",
    "y_train = to_categorical(y_train, 43)\n",
    "y_test = to_categorical(y_test, 43)"
   ]
  },
  {
   "cell_type": "markdown",
   "metadata": {},
   "source": [
    "The architecture of our model is:\n",
    "\n",
    "2 Conv2D layer (filter=32, kernel_size=(5,5), activation=”relu”)\n",
    "MaxPool2D layer ( pool_size=(2,2))\n",
    "Dropout layer (rate=0.25)\n",
    "2 Conv2D layer (filter=64, kernel_size=(3,3), activation=”relu”)\n",
    "MaxPool2D layer ( pool_size=(2,2))\n",
    "Dropout layer (rate=0.25)\n",
    "Flatten layer to squeeze the layers into 1 dimension\n",
    "Dense Fully connected layer (256 nodes, activation=”relu”)\n",
    "Dropout layer (rate=0.5)\n",
    "Dense layer (43 nodes, activation=”softmax”)"
   ]
  },
  {
   "cell_type": "code",
   "execution_count": 5,
   "metadata": {},
   "outputs": [],
   "source": [
    "#Building a model\n",
    "\n",
    "model = Sequential()\n",
    "model.add(Conv2D(filters=32, kernel_size=(5,5), activation='relu', input_shape=X_train.shape[1:]))\n",
    "model.add(Conv2D(filters=32, kernel_size=(5,5), activation='relu'))\n",
    "model.add(MaxPool2D(pool_size=(2, 2)))\n",
    "model.add(Dropout(rate=0.25))\n",
    "model.add(Conv2D(filters=64, kernel_size=(3, 3), activation='relu'))\n",
    "model.add(Conv2D(filters=64, kernel_size=(3, 3), activation='relu'))\n",
    "model.add(MaxPool2D(pool_size=(2, 2)))\n",
    "model.add(Dropout(rate=0.25))\n",
    "model.add(Flatten())\n",
    "model.add(Dense(256, activation='relu'))\n",
    "model.add(Dropout(rate=0.5))\n",
    "model.add(Dense(43, activation='softmax'))\n",
    "\n"
   ]
  },
  {
   "cell_type": "code",
   "execution_count": 6,
   "metadata": {},
   "outputs": [],
   "source": [
    "#Compilation of the model\n",
    "model.compile(loss='categorical_crossentropy', optimizer='adam', metrics=['accuracy'])"
   ]
  },
  {
   "cell_type": "code",
   "execution_count": 7,
   "metadata": {},
   "outputs": [
    {
     "name": "stdout",
     "output_type": "stream",
     "text": [
      "Epoch 1/15\n",
      "981/981 [==============================] - 145s 146ms/step - loss: 1.7354 - accuracy: 0.5666 - val_loss: 0.2547 - val_accuracy: 0.9396\n",
      "Epoch 2/15\n",
      "981/981 [==============================] - 143s 145ms/step - loss: 0.4491 - accuracy: 0.8727 - val_loss: 0.1198 - val_accuracy: 0.9716\n",
      "Epoch 3/15\n",
      "981/981 [==============================] - 145s 148ms/step - loss: 0.3067 - accuracy: 0.9152 - val_loss: 0.0735 - val_accuracy: 0.9818\n",
      "Epoch 4/15\n",
      "981/981 [==============================] - 131s 134ms/step - loss: 0.2526 - accuracy: 0.9285 - val_loss: 0.0727 - val_accuracy: 0.9819\n",
      "Epoch 5/15\n",
      "981/981 [==============================] - 134s 137ms/step - loss: 0.2461 - accuracy: 0.9340 - val_loss: 0.0543 - val_accuracy: 0.9852\n",
      "Epoch 6/15\n",
      "981/981 [==============================] - 137s 140ms/step - loss: 0.2297 - accuracy: 0.9394 - val_loss: 0.0588 - val_accuracy: 0.9851\n",
      "Epoch 7/15\n",
      "981/981 [==============================] - 139s 141ms/step - loss: 0.1940 - accuracy: 0.9492 - val_loss: 0.1033 - val_accuracy: 0.9716\n",
      "Epoch 8/15\n",
      "981/981 [==============================] - 139s 142ms/step - loss: 0.2329 - accuracy: 0.9415 - val_loss: 0.0610 - val_accuracy: 0.9847\n",
      "Epoch 9/15\n",
      "981/981 [==============================] - 138s 141ms/step - loss: 0.2242 - accuracy: 0.9449 - val_loss: 0.0517 - val_accuracy: 0.9844\n",
      "Epoch 10/15\n",
      "981/981 [==============================] - 141s 143ms/step - loss: 0.2006 - accuracy: 0.9494 - val_loss: 0.0446 - val_accuracy: 0.9884\n",
      "Epoch 11/15\n",
      "981/981 [==============================] - 452s 461ms/step - loss: 0.1726 - accuracy: 0.9571 - val_loss: 0.0371 - val_accuracy: 0.9915\n",
      "Epoch 12/15\n",
      "981/981 [==============================] - 133s 135ms/step - loss: 0.1868 - accuracy: 0.9547 - val_loss: 0.0557 - val_accuracy: 0.9852\n",
      "Epoch 13/15\n",
      "981/981 [==============================] - 130s 132ms/step - loss: 0.1741 - accuracy: 0.9568 - val_loss: 0.0520 - val_accuracy: 0.9872\n",
      "Epoch 14/15\n",
      "981/981 [==============================] - 130s 132ms/step - loss: 0.2442 - accuracy: 0.9470 - val_loss: 0.0510 - val_accuracy: 0.9881\n",
      "Epoch 15/15\n",
      "981/981 [==============================] - 129s 132ms/step - loss: 0.1670 - accuracy: 0.9597 - val_loss: 0.0654 - val_accuracy: 0.9851\n"
     ]
    }
   ],
   "source": [
    "#train & validate the model\n",
    "epochs = 15\n",
    "history = model.fit(X_train, y_train, batch_size=32, epochs=epochs, validation_data=(X_test, y_test))\n",
    "model.save(\"my_model.h5\")\n"
   ]
  },
  {
   "cell_type": "code",
   "execution_count": 8,
   "metadata": {},
   "outputs": [
    {
     "data": {
      "image/png": "[encoded data removed]",
      "text/plain": [
       "<Figure size 432x288 with 1 Axes>"
      ]
     },
     "metadata": {
      "needs_background": "light"
     },
     "output_type": "display_data"
    },
    {
     "data": {
      "image/png": "[encoded data removed]",
      "text/plain": [
       "<Figure size 432x288 with 1 Axes>"
      ]
     },
     "metadata": {
      "needs_background": "light"
     },
     "output_type": "display_data"
    }
   ],
   "source": [
    "#plotting graphs for accuracy \n",
    "plt.figure(0)\n",
    "plt.plot(history.history['accuracy'], label='training accuracy')\n",
    "plt.plot(history.history['val_accuracy'], label='val accuracy')\n",
    "plt.title('Accuracy')\n",
    "plt.xlabel('epochs')\n",
    "plt.ylabel('accuracy')\n",
    "plt.legend()\n",
    "plt.show()\n",
    "plt.figure(1)\n",
    "plt.plot(history.history['loss'], label='training loss')\n",
    "plt.plot(history.history['val_loss'], label='val loss')\n",
    "plt.title('Loss')\n",
    "plt.xlabel('epochs')\n",
    "plt.ylabel('loss')\n",
    "plt.legend()\n",
    "plt.show()\n"
   ]
  },
  {
   "cell_type": "code",
   "execution_count": 9,
   "metadata": {},
   "outputs": [
    {
     "name": "stderr",
     "output_type": "stream",
     "text": [
      "C:\\Users\\udai\\anaconda3\\lib\\site-packages\\tensorflow\\python\\keras\\engine\\sequential.py:455: UserWarning: `model.predict_classes()` is deprecated and will be removed after 2021-01-01. Please use instead:* `np.argmax(model.predict(x), axis=-1)`,   if your model does multi-class classification   (e.g. if it uses a `softmax` last-layer activation).* `(model.predict(x) > 0.5).astype(\"int32\")`,   if your model does binary classification   (e.g. if it uses a `sigmoid` last-layer activation).\n",
      "  warnings.warn('`model.predict_classes()` is deprecated and '\n"
     ]
    },
    {
     "name": "stdout",
     "output_type": "stream",
     "text": [
      "0.9471892319873317\n"
     ]
    }
   ],
   "source": [
    "#testing accuracy on test dataset\n",
    "from sklearn.metrics import accuracy_score\n",
    "y_test = pd.read_csv('Test.csv')\n",
    "labels = y_test[\"ClassId\"].values\n",
    "imgs = y_test[\"Path\"].values\n",
    "data=[]\n",
    "\n",
    "for img in imgs:\n",
    "    image = Image.open(img)\n",
    "    image = image.resize((30,30))\n",
    "    data.append(np.array(image))\n",
    "X_test=np.array(data)\n",
    "pred = model.predict_classes(X_test)\n",
    "#Accuracy with the test data\n",
    "from sklearn.metrics import accuracy_score\n",
    "print(accuracy_score(labels, pred))\n",
    "model.save('traffic_classifier.h5')"
   ]
  },
  {
   "cell_type": "code",
   "execution_count": null,
   "metadata": {},
   "outputs": [],
   "source": []
  }
 ],
 "metadata": {
  "kernelspec": {
   "display_name": "Python 3",
   "language": "python",
   "name": "python3"
  },
  "language_info": {
   "codemirror_mode": {
    "name": "ipython",
    "version": 3
   },
   "file_extension": ".py",
   "mimetype": "text/x-python",
   "name": "python",
   "nbconvert_exporter": "python",
   "pygments_lexer": "ipython3",
   "version": "3.8.8"
  }
 },
 "nbformat": 4,
 "nbformat_minor": 4
}
